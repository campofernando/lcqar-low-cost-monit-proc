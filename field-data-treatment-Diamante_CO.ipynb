{
 "cells": [
  {
   "attachments": {},
   "cell_type": "markdown",
   "metadata": {},
   "source": [
    "# Receive Renovar API Data"
   ]
  },
  {
   "attachments": {},
   "cell_type": "markdown",
   "metadata": {},
   "source": [
    "## Constants"
   ]
  },
  {
   "attachments": {},
   "cell_type": "markdown",
   "metadata": {},
   "source": [
    "### Sensors IDs"
   ]
  },
  {
   "cell_type": "code",
   "execution_count": 1,
   "metadata": {},
   "outputs": [],
   "source": [
    "TEMPERATURE_ID     =  130\n",
    "PRESSURE_ID        =  131\n",
    "ALPHA_CO_ID        =  132\n",
    "ALPHA_NO2_ID       =  133\n",
    "ALPHA_SO2_1_ID     =  134\n",
    "ALPHA_OX_1_ID      =  135\n",
    "ALPHA_OX_2_ID      =  136\n",
    "ALPHA_SO2_2_ID     =  137\n",
    "EXT_TEMPERATURE_ID =  138\n",
    "EXT_HUMIDITY_ID    =  139\n",
    "PM10_ID            =  140\n",
    "PM25_ID            =  141\n",
    "PM01_ID            =  142\n",
    "OPC_TEMPERATURE_ID =  143\n",
    "OPC_HUMIDITY_ID    =  144"
   ]
  },
  {
   "attachments": {},
   "cell_type": "markdown",
   "metadata": {},
   "source": [
    "### API Constants"
   ]
  },
  {
   "cell_type": "code",
   "execution_count": 2,
   "metadata": {},
   "outputs": [],
   "source": [
    "HOST = \"renovar.lcqar.ufsc.br\"\n",
    "PORT = 8080\n",
    "GET_SAMPLES_BY_SENSOR = \"/sample/sensor/all/\"\n",
    "HTTP_REQUEST_MAIN = 'http://' + HOST + ':' + str(PORT) + GET_SAMPLES_BY_SENSOR"
   ]
  },
  {
   "attachments": {},
   "cell_type": "markdown",
   "metadata": {},
   "source": [
    "### Methods for creating and processing requests"
   ]
  },
  {
   "cell_type": "code",
   "execution_count": 3,
   "metadata": {},
   "outputs": [],
   "source": [
    "import requests\n",
    "import json\n",
    "import pandas as pd\n",
    "import numpy as np\n",
    "\n",
    "class GetSensorDataService:\n",
    "    def __init__(self, host, port, endpoint) -> None:\n",
    "        self.__endpoint = 'http://' + host + ':' + str(port) + endpoint\n",
    "\n",
    "    def get_json_data_from_sensor_id(self, id):\n",
    "        return requests.get(self.__endpoint + str(id))\n",
    "\n",
    "class SensorData:\n",
    "    def __init__(self, sensor_id, sensor_name, lower_limit, upper_limit, t_90, t_90_value, sampling_period, get_service) -> None:\n",
    "        self.__sensor_id = sensor_id\n",
    "        self.__sensor_name = sensor_name\n",
    "        self.__get_service = get_service\n",
    "        self.__lower_limit = lower_limit\n",
    "        self.__upper_limit = upper_limit\n",
    "        self.__t_90 = t_90 / 2\n",
    "        self.__t_90_value = t_90_value\n",
    "        self.__sampling_period = sampling_period\n",
    "        self.web_dataframe = []\n",
    "        self.sensor_dataframe = []\n",
    "        self.sensor_dataframe_1hr = []\n",
    "        self.raw_series = []\n",
    "        self.valid_series = []\n",
    "        self.valid_differential_series = []\n",
    "\n",
    "    def get_samples(self):\n",
    "        response_json = self.__get_service.get_json_data_from_sensor_id(self.__sensor_id)\n",
    "        response_dict = json.loads(response_json.content)\n",
    "        response_dataframe = pd.DataFrame.from_dict(response_dict)\n",
    "        response_dataframe['DateTime'] = (pd.to_datetime(response_dataframe['date'], \n",
    "                                        infer_datetime_format=False, \n",
    "                                        format='%d/%m/%Y %H:%M:%S'))\n",
    "        self.web_dataframe = response_dataframe[[\"DateTime\",\"measuring\", \"latitude\", \"longitude\"]]\n",
    "\n",
    "    def tag_and_prepare_data(self):\n",
    "        self.sensor_dataframe = self.web_dataframe\n",
    "        self.sensor_dataframe = ((self.sensor_dataframe.sort_values(by='DateTime', ascending=True)\n",
    "                                  .reset_index().drop(columns='index')))\n",
    "        self.sensor_dataframe.index = self.sensor_dataframe['DateTime']\n",
    "        self.sensor_dataframe = self.sensor_dataframe.drop(columns=['DateTime'])\n",
    "        \n",
    "        # Create series\n",
    "        self.sensor_dataframe = self.sensor_dataframe.resample('15T').mean()\n",
    "        self.raw_series = self.sensor_dataframe['measuring']\n",
    "\n",
    "        # Tag according to sensor limits\n",
    "        self.sensor_dataframe['Tag'] = (self.sensor_dataframe['measuring']\n",
    "                                        .apply(lambda v: self.__get_tags_from_series__(value=v,\n",
    "                                                                                       lower_limit=self.__lower_limit,\n",
    "                                                                                       upper_limit=self.__upper_limit)))\n",
    "        \n",
    "        # Calculate derivatives\n",
    "        self.sensor_dataframe['Diff'] = self.sensor_dataframe['measuring'].resample('15T').mean().diff() \n",
    "        self.sensor_dataframe['Tag'] = (self.sensor_dataframe[['Tag', 'Diff']]\n",
    "                                        .apply(lambda df: self.__tag_data_with_diff__(tagged_df=df), axis=1))\n",
    "        self.valid_differential_series = self.sensor_dataframe[self.sensor_dataframe['Tag'] == 'VALID']['Diff']\n",
    "        \n",
    "        # Separate valid dataframe\n",
    "        valid_dataframe = self.sensor_dataframe[self.sensor_dataframe['Tag'] == 'VALID']\n",
    "        self.valid_series = valid_dataframe['measuring']\n",
    "        \n",
    "        # Calculate hourly statistics\n",
    "        self.sensor_dataframe_1hr = self.__get_hour_statistics__(valid_dataframe, self.sensor_dataframe.index.freq)\n",
    "\n",
    "    def __reset_index_to_date_time__(self, input_df):\n",
    "        df = ((input_df.sort_values(by='DateTime', ascending=True)\n",
    "               .reset_index().drop(columns='index')))\n",
    "        df.index = input_df['DateTime']\n",
    "        df = input_df.drop(columns=['DateTime'])\n",
    "        return df\n",
    "    \n",
    "    def __get_tags_from_series__(self, value, lower_limit, upper_limit):\n",
    "        if (value <= -9000.0  or \n",
    "            np.isnan(value))  : return 'MISSING' \n",
    "        if value < lower_limit: return 'LTLL'\n",
    "        if value > upper_limit: return 'GTUL'\n",
    "        return 'VALID'\n",
    "    \n",
    "    def __tag_data_with_diff__(self, tagged_df):\n",
    "        current_tag = tagged_df[0]\n",
    "        value = tagged_df[1]\n",
    "        if ((current_tag != 'VALID') or (np.isnan(value))): return current_tag\n",
    "        max_diff_value = self.__sampling_period / self.__t_90 * self.__t_90_value\n",
    "        if ((value > max_diff_value) or (value < -max_diff_value)): return 'BADSPIKE'\n",
    "        return 'VALID'\n",
    "    \n",
    "    def __get_hour_statistics__(self, valid_dataframe, original_freq):\n",
    "        resampled_dataframe = valid_dataframe.resample('H').mean()\n",
    "        resampled_dataframe['Hour'] = resampled_dataframe.index.hour\n",
    "        resampled_dataframe['Count'] = (valid_dataframe.resample('H').count()['measuring'])\n",
    "        resampled_dataframe['Std'] = (valid_dataframe.resample('H').std()['measuring'])\n",
    "        resampled_dataframe['% valid'] = (resampled_dataframe['Count']\n",
    "                                          .map(lambda c:\n",
    "                                               c / (pd.Timedelta(\"1 hour\") / original_freq) * 100))\n",
    "        resampled_dataframe['Tag'] = (resampled_dataframe['% valid']\n",
    "                                        .map(lambda c: 'VALID' if c >= 75 else 'LOWSAMPLES'))\n",
    "        return resampled_dataframe\n",
    "\n",
    "    def calculate_and_tag_quantiles(self):\n",
    "        dataframe = self.sensor_dataframe_1hr[self.sensor_dataframe_1hr['Tag'] == 'VALID']\n",
    "        global_qtle_01 = dataframe.pivot(columns='Hour')['measuring'].quantile(q=0.01, axis='index', interpolation='lower').dropna()\n",
    "        global_qtle_99 = dataframe.pivot(columns='Hour')['measuring'].quantile(q=0.99, axis='index', interpolation='higher').dropna()\n",
    "        self.sensor_dataframe_1hr['GLOBAL_QTLE01'] = self.sensor_dataframe_1hr['Hour'].map(lambda hr: global_qtle_01[hr] if (not np.isnan(hr)) else np.nan)\n",
    "        self.sensor_dataframe_1hr['GLOBAL_QTLE99'] = self.sensor_dataframe_1hr['Hour'].map(lambda hr: global_qtle_99[hr] if (not np.isnan(hr)) else np.nan)\n",
    "        self.sensor_dataframe_1hr['Tag'] = (self.sensor_dataframe_1hr[['Tag', 'measuring', 'GLOBAL_QTLE01', 'GLOBAL_QTLE99']]\n",
    "                                            .apply(lambda df: self.__tag_by_quantiles__(tagged_df=df), axis=1))\n",
    "\n",
    "    def __tag_by_quantiles__(self, tagged_df):\n",
    "        current_tag = tagged_df[0]\n",
    "        value = tagged_df[1]\n",
    "        quantile_01 = tagged_df[2]\n",
    "        quantile_99 = tagged_df[3]\n",
    "        if ((current_tag != 'VALID') or (np.isnan(value))): return current_tag\n",
    "        if value <= quantile_01: return 'LTQTLE01'\n",
    "        if value >= quantile_99: return 'GTQTLE99'\n",
    "        return 'VALID'\n",
    "\n",
    "    def save_to_csv(self):\n",
    "        self.web_dataframe.to_csv(self.__sensor_name + 'web_dataframe.csv')\n",
    "\n",
    "    def read_from_csv(self):\n",
    "        df = pd.read_csv(self.__sensor_name + 'web_dataframe.csv')\n",
    "        self.web_dataframe = df.drop(df.columns[0], axis='columns')\n",
    "        self.web_dataframe['DateTime'] = (pd.to_datetime(df['DateTime'], infer_datetime_format=True))"
   ]
  },
  {
   "cell_type": "code",
   "execution_count": 4,
   "metadata": {},
   "outputs": [],
   "source": [
    "get_sensor_data_service = GetSensorDataService(HOST, PORT, GET_SAMPLES_BY_SENSOR)"
   ]
  },
  {
   "cell_type": "code",
   "execution_count": 5,
   "metadata": {},
   "outputs": [],
   "source": [
    "def count_tags(tags_list, df):\n",
    "  tags_list.append('TOTAL')\n",
    "  count = len(df)\n",
    "  data_count = pd.DataFrame(index=tags_list, columns=['#', '%'])\n",
    "  data_count.loc['TOTAL'] = [count, (count/count)*100]\n",
    "\n",
    "  for tag in data_count.index[:-1]:\n",
    "    val = (df.where(df['Tag'] == tag)\n",
    "              .count()['Tag'])  # Fiz assim pq count() não conta os nan\n",
    "    data_count.loc[tag] = [val, (val/count)*100]\n",
    "\n",
    "  return data_count"
   ]
  },
  {
   "cell_type": "code",
   "execution_count": 6,
   "metadata": {},
   "outputs": [],
   "source": [
    "# chamber_temperature_data =  SensorData(TEMPERATURE_ID,      sensor_name='chamber_temperature',  lower_limit=0.0,    upper_limit=70.0,   get_service=get_sensor_data_service)\n",
    "# chamber_pressure_data =     SensorData(PRESSURE_ID,         sensor_name='chamber_pressure',     lower_limit=95000,  upper_limit=108400, get_service=get_sensor_data_service)\n",
    "# sht20_temperature_data =    SensorData(EXT_TEMPERATURE_ID,  sensor_name='sht20_temperature',    lower_limit=0.0,    upper_limit=70.0,   get_service=get_sensor_data_service)\n",
    "# sht20_humidity_data =       SensorData(EXT_HUMIDITY_ID,     sensor_name='sht20_humidity',       lower_limit=0.0,    upper_limit=100.0,  get_service=get_sensor_data_service)\n",
    "# alpha_opc_temperature_data =SensorData(OPC_TEMPERATURE_ID,  sensor_name='alha_opc_temperature', lower_limit=0.0,    upper_limit=70.0,   get_service=get_sensor_data_service)\n",
    "# alpha_opc_humidity_data =   SensorData(OPC_HUMIDITY_ID,     sensor_name='alha_opc_humidity',    lower_limit=0.0,    upper_limit=100.0,  get_service=get_sensor_data_service)\n",
    "# alpha_no2_conc_data =       SensorData(ALPHA_NO2_ID,        sensor_name='alha_no2_conc',        lower_limit=4.0,    upper_limit=1e6,    get_service=get_sensor_data_service)\n",
    "# alpha_so2_1_conc_data =     SensorData(ALPHA_SO2_1_ID,      sensor_name='alha_so2_1_conc',      lower_limit=4.0,    upper_limit=1e6,    get_service=get_sensor_data_service)\n",
    "# alpha_so2_2_conc_data =     SensorData(ALPHA_SO2_2_ID,      sensor_name='alha_so2_2_conc',      lower_limit=4.0,    upper_limit=1e6,    get_service=get_sensor_data_service)\n",
    "# alpha_o3_1_conc_data =      SensorData(ALPHA_OX_1_ID,       sensor_name='alha_o3_1_conc',       lower_limit=4.0,    upper_limit=1e6,    get_service=get_sensor_data_service)\n",
    "# alpha_o3_2_conc_data =      SensorData(ALPHA_OX_2_ID,       sensor_name='alha_o3_2_conc',       lower_limit=4.0,    upper_limit=1e6,    get_service=get_sensor_data_service)"
   ]
  },
  {
   "cell_type": "code",
   "execution_count": 7,
   "metadata": {},
   "outputs": [],
   "source": [
    "# alpha_pm_10_conc_data   = SensorData(PM10_ID, sensor_name='alha_pm_10_conc', lower_limit=0.0, upper_limit=1e6, get_service=get_sensor_data_service)\n",
    "# alpha_pm_2_5_conc_data  = SensorData(PM25_ID, sensor_name='alha_pm_2_5_conc',lower_limit=0.0, upper_limit=1e6, get_service=get_sensor_data_service)\n",
    "# alpha_pm_1_conc_data    = SensorData(PM01_ID, sensor_name='alha_pm_1_conc',  lower_limit=0.0, upper_limit=1e6, get_service=get_sensor_data_service)"
   ]
  },
  {
   "attachments": {},
   "cell_type": "markdown",
   "metadata": {},
   "source": [
    "# Alphasense CO Sensor Data"
   ]
  },
  {
   "cell_type": "code",
   "execution_count": 8,
   "metadata": {},
   "outputs": [],
   "source": [
    "alpha_co_conc_data = SensorData(ALPHA_CO_ID, sensor_name='alha_co_conc', lower_limit=4.0, upper_limit=1e6, \n",
    "                                t_90=30, t_90_value=10e3, sampling_period=15 * 60, \n",
    "                                get_service=get_sensor_data_service)"
   ]
  },
  {
   "attachments": {},
   "cell_type": "markdown",
   "metadata": {},
   "source": [
    "## Upload Data from File"
   ]
  },
  {
   "cell_type": "code",
   "execution_count": 9,
   "metadata": {},
   "outputs": [
    {
     "data": {
      "text/html": [
       "<div>\n",
       "<style scoped>\n",
       "    .dataframe tbody tr th:only-of-type {\n",
       "        vertical-align: middle;\n",
       "    }\n",
       "\n",
       "    .dataframe tbody tr th {\n",
       "        vertical-align: top;\n",
       "    }\n",
       "\n",
       "    .dataframe thead th {\n",
       "        text-align: right;\n",
       "    }\n",
       "</style>\n",
       "<table border=\"1\" class=\"dataframe\">\n",
       "  <thead>\n",
       "    <tr style=\"text-align: right;\">\n",
       "      <th></th>\n",
       "      <th>DateTime</th>\n",
       "      <th>measuring</th>\n",
       "      <th>latitude</th>\n",
       "      <th>longitude</th>\n",
       "    </tr>\n",
       "  </thead>\n",
       "  <tbody>\n",
       "    <tr>\n",
       "      <th>0</th>\n",
       "      <td>2022-11-20 13:44:16</td>\n",
       "      <td>-196.0</td>\n",
       "      <td>-28.4569</td>\n",
       "      <td>-48.973</td>\n",
       "    </tr>\n",
       "    <tr>\n",
       "      <th>1</th>\n",
       "      <td>2022-11-21 10:36:43</td>\n",
       "      <td>115.0</td>\n",
       "      <td>-28.4569</td>\n",
       "      <td>-48.973</td>\n",
       "    </tr>\n",
       "    <tr>\n",
       "      <th>2</th>\n",
       "      <td>2022-11-21 15:36:07</td>\n",
       "      <td>93.0</td>\n",
       "      <td>-28.4569</td>\n",
       "      <td>-48.973</td>\n",
       "    </tr>\n",
       "    <tr>\n",
       "      <th>3</th>\n",
       "      <td>2022-11-21 16:23:19</td>\n",
       "      <td>87.0</td>\n",
       "      <td>-28.4569</td>\n",
       "      <td>-48.973</td>\n",
       "    </tr>\n",
       "    <tr>\n",
       "      <th>4</th>\n",
       "      <td>2022-11-21 16:54:51</td>\n",
       "      <td>89.0</td>\n",
       "      <td>-28.4569</td>\n",
       "      <td>-48.973</td>\n",
       "    </tr>\n",
       "  </tbody>\n",
       "</table>\n",
       "</div>"
      ],
      "text/plain": [
       "             DateTime  measuring  latitude  longitude\n",
       "0 2022-11-20 13:44:16     -196.0  -28.4569    -48.973\n",
       "1 2022-11-21 10:36:43      115.0  -28.4569    -48.973\n",
       "2 2022-11-21 15:36:07       93.0  -28.4569    -48.973\n",
       "3 2022-11-21 16:23:19       87.0  -28.4569    -48.973\n",
       "4 2022-11-21 16:54:51       89.0  -28.4569    -48.973"
      ]
     },
     "execution_count": 9,
     "metadata": {},
     "output_type": "execute_result"
    }
   ],
   "source": [
    "alpha_co_conc_data.read_from_csv()\n",
    "alpha_co_conc_data.web_dataframe.head()"
   ]
  },
  {
   "attachments": {},
   "cell_type": "markdown",
   "metadata": {},
   "source": [
    "## Tag data"
   ]
  },
  {
   "cell_type": "code",
   "execution_count": 10,
   "metadata": {},
   "outputs": [
    {
     "data": {
      "text/html": [
       "<div>\n",
       "<style scoped>\n",
       "    .dataframe tbody tr th:only-of-type {\n",
       "        vertical-align: middle;\n",
       "    }\n",
       "\n",
       "    .dataframe tbody tr th {\n",
       "        vertical-align: top;\n",
       "    }\n",
       "\n",
       "    .dataframe thead th {\n",
       "        text-align: right;\n",
       "    }\n",
       "</style>\n",
       "<table border=\"1\" class=\"dataframe\">\n",
       "  <thead>\n",
       "    <tr style=\"text-align: right;\">\n",
       "      <th></th>\n",
       "      <th>measuring</th>\n",
       "      <th>latitude</th>\n",
       "      <th>longitude</th>\n",
       "      <th>Tag</th>\n",
       "      <th>Diff</th>\n",
       "    </tr>\n",
       "    <tr>\n",
       "      <th>DateTime</th>\n",
       "      <th></th>\n",
       "      <th></th>\n",
       "      <th></th>\n",
       "      <th></th>\n",
       "      <th></th>\n",
       "    </tr>\n",
       "  </thead>\n",
       "  <tbody>\n",
       "    <tr>\n",
       "      <th>2022-11-20 13:30:00</th>\n",
       "      <td>-196.0</td>\n",
       "      <td>-28.4569</td>\n",
       "      <td>-48.973</td>\n",
       "      <td>LTLL</td>\n",
       "      <td>NaN</td>\n",
       "    </tr>\n",
       "    <tr>\n",
       "      <th>2022-11-20 13:45:00</th>\n",
       "      <td>NaN</td>\n",
       "      <td>NaN</td>\n",
       "      <td>NaN</td>\n",
       "      <td>MISSING</td>\n",
       "      <td>NaN</td>\n",
       "    </tr>\n",
       "    <tr>\n",
       "      <th>2022-11-20 14:00:00</th>\n",
       "      <td>NaN</td>\n",
       "      <td>NaN</td>\n",
       "      <td>NaN</td>\n",
       "      <td>MISSING</td>\n",
       "      <td>NaN</td>\n",
       "    </tr>\n",
       "    <tr>\n",
       "      <th>2022-11-20 14:15:00</th>\n",
       "      <td>NaN</td>\n",
       "      <td>NaN</td>\n",
       "      <td>NaN</td>\n",
       "      <td>MISSING</td>\n",
       "      <td>NaN</td>\n",
       "    </tr>\n",
       "    <tr>\n",
       "      <th>2022-11-20 14:30:00</th>\n",
       "      <td>NaN</td>\n",
       "      <td>NaN</td>\n",
       "      <td>NaN</td>\n",
       "      <td>MISSING</td>\n",
       "      <td>NaN</td>\n",
       "    </tr>\n",
       "  </tbody>\n",
       "</table>\n",
       "</div>"
      ],
      "text/plain": [
       "                     measuring  latitude  longitude      Tag  Diff\n",
       "DateTime                                                          \n",
       "2022-11-20 13:30:00     -196.0  -28.4569    -48.973     LTLL   NaN\n",
       "2022-11-20 13:45:00        NaN       NaN        NaN  MISSING   NaN\n",
       "2022-11-20 14:00:00        NaN       NaN        NaN  MISSING   NaN\n",
       "2022-11-20 14:15:00        NaN       NaN        NaN  MISSING   NaN\n",
       "2022-11-20 14:30:00        NaN       NaN        NaN  MISSING   NaN"
      ]
     },
     "execution_count": 10,
     "metadata": {},
     "output_type": "execute_result"
    }
   ],
   "source": [
    "alpha_co_conc_data.tag_and_prepare_data()\n",
    "alpha_co_conc_data.sensor_dataframe.head()"
   ]
  },
  {
   "attachments": {},
   "cell_type": "markdown",
   "metadata": {},
   "source": [
    "### Data Tag contabilization"
   ]
  },
  {
   "cell_type": "code",
   "execution_count": 11,
   "metadata": {},
   "outputs": [
    {
     "data": {
      "text/html": [
       "<div>\n",
       "<style scoped>\n",
       "    .dataframe tbody tr th:only-of-type {\n",
       "        vertical-align: middle;\n",
       "    }\n",
       "\n",
       "    .dataframe tbody tr th {\n",
       "        vertical-align: top;\n",
       "    }\n",
       "\n",
       "    .dataframe thead th {\n",
       "        text-align: right;\n",
       "    }\n",
       "</style>\n",
       "<table border=\"1\" class=\"dataframe\">\n",
       "  <thead>\n",
       "    <tr style=\"text-align: right;\">\n",
       "      <th></th>\n",
       "      <th>#</th>\n",
       "      <th>%</th>\n",
       "    </tr>\n",
       "  </thead>\n",
       "  <tbody>\n",
       "    <tr>\n",
       "      <th>MISSING</th>\n",
       "      <td>9408</td>\n",
       "      <td>53.3092</td>\n",
       "    </tr>\n",
       "    <tr>\n",
       "      <th>LTLL</th>\n",
       "      <td>3678</td>\n",
       "      <td>20.8409</td>\n",
       "    </tr>\n",
       "    <tr>\n",
       "      <th>GTUL</th>\n",
       "      <td>0</td>\n",
       "      <td>0</td>\n",
       "    </tr>\n",
       "    <tr>\n",
       "      <th>BADSPIKE</th>\n",
       "      <td>0</td>\n",
       "      <td>0</td>\n",
       "    </tr>\n",
       "    <tr>\n",
       "      <th>VALID</th>\n",
       "      <td>4562</td>\n",
       "      <td>25.85</td>\n",
       "    </tr>\n",
       "    <tr>\n",
       "      <th>TOTAL</th>\n",
       "      <td>17648</td>\n",
       "      <td>100</td>\n",
       "    </tr>\n",
       "  </tbody>\n",
       "</table>\n",
       "</div>"
      ],
      "text/plain": [
       "              #        %\n",
       "MISSING    9408  53.3092\n",
       "LTLL       3678  20.8409\n",
       "GTUL          0        0\n",
       "BADSPIKE      0        0\n",
       "VALID      4562    25.85\n",
       "TOTAL     17648      100"
      ]
     },
     "execution_count": 11,
     "metadata": {},
     "output_type": "execute_result"
    }
   ],
   "source": [
    "data_contabilization = count_tags(['MISSING','LTLL', 'GTUL', 'BADSPIKE', 'VALID'], alpha_co_conc_data.sensor_dataframe)\n",
    "data_contabilization"
   ]
  },
  {
   "attachments": {},
   "cell_type": "markdown",
   "metadata": {},
   "source": [
    "### Plot raw data"
   ]
  },
  {
   "cell_type": "code",
   "execution_count": 12,
   "metadata": {},
   "outputs": [
    {
     "data": {
      "text/plain": [
       "<matplotlib.axes._subplots.AxesSubplot at 0xa1a8c44dc8>"
      ]
     },
     "execution_count": 12,
     "metadata": {},
     "output_type": "execute_result"
    },
    {
     "data": {
      "image/png": "[encoded data removed]",
      "text/plain": [
       "<Figure size 432x288 with 1 Axes>"
      ]
     },
     "metadata": {
      "needs_background": "light"
     },
     "output_type": "display_data"
    }
   ],
   "source": [
    "alpha_co_conc_data.sensor_dataframe['measuring'].plot()"
   ]
  },
  {
   "attachments": {},
   "cell_type": "markdown",
   "metadata": {},
   "source": [
    "### Plot Valid Data"
   ]
  },
  {
   "cell_type": "code",
   "execution_count": 13,
   "metadata": {},
   "outputs": [
    {
     "data": {
      "text/plain": [
       "<matplotlib.axes._subplots.AxesSubplot at 0xa1a96b7288>"
      ]
     },
     "execution_count": 13,
     "metadata": {},
     "output_type": "execute_result"
    },
    {
     "data": {
      "image/png": "[encoded data removed]",
      "text/plain": [
       "<Figure size 432x288 with 1 Axes>"
      ]
     },
     "metadata": {
      "needs_background": "light"
     },
     "output_type": "display_data"
    }
   ],
   "source": [
    "alpha_co_conc_data.sensor_dataframe[alpha_co_conc_data.sensor_dataframe['Tag'] == 'VALID']['measuring'].resample('15T').mean().plot()"
   ]
  },
  {
   "attachments": {},
   "cell_type": "markdown",
   "metadata": {},
   "source": [
    "### Plot raw derivatives"
   ]
  },
  {
   "cell_type": "code",
   "execution_count": 14,
   "metadata": {},
   "outputs": [
    {
     "data": {
      "text/plain": [
       "<matplotlib.axes._subplots.AxesSubplot at 0xa1a8c443c8>"
      ]
     },
     "execution_count": 14,
     "metadata": {},
     "output_type": "execute_result"
    },
    {
     "data": {
      "image/png": "[encoded data removed]",
      "text/plain": [
       "<Figure size 432x288 with 1 Axes>"
      ]
     },
     "metadata": {
      "needs_background": "light"
     },
     "output_type": "display_data"
    }
   ],
   "source": [
    "alpha_co_conc_data.sensor_dataframe['Diff'].resample('15T').mean().plot()"
   ]
  },
  {
   "attachments": {},
   "cell_type": "markdown",
   "metadata": {},
   "source": [
    "### Plot valid derivatives"
   ]
  },
  {
   "cell_type": "code",
   "execution_count": 15,
   "metadata": {},
   "outputs": [
    {
     "data": {
      "text/plain": [
       "<matplotlib.axes._subplots.AxesSubplot at 0xa1a9687ec8>"
      ]
     },
     "execution_count": 15,
     "metadata": {},
     "output_type": "execute_result"
    },
    {
     "data": {
      "image/png": "[encoded data removed]",
      "text/plain": [
       "<Figure size 432x288 with 1 Axes>"
      ]
     },
     "metadata": {
      "needs_background": "light"
     },
     "output_type": "display_data"
    }
   ],
   "source": [
    "alpha_co_conc_data.valid_differential_series.resample('15T').mean().plot()"
   ]
  },
  {
   "attachments": {},
   "cell_type": "markdown",
   "metadata": {},
   "source": [
    "## Resampled data"
   ]
  },
  {
   "cell_type": "code",
   "execution_count": 16,
   "metadata": {},
   "outputs": [
    {
     "data": {
      "text/html": [
       "<div>\n",
       "<style scoped>\n",
       "    .dataframe tbody tr th:only-of-type {\n",
       "        vertical-align: middle;\n",
       "    }\n",
       "\n",
       "    .dataframe tbody tr th {\n",
       "        vertical-align: top;\n",
       "    }\n",
       "\n",
       "    .dataframe thead th {\n",
       "        text-align: right;\n",
       "    }\n",
       "</style>\n",
       "<table border=\"1\" class=\"dataframe\">\n",
       "  <thead>\n",
       "    <tr style=\"text-align: right;\">\n",
       "      <th></th>\n",
       "      <th>measuring</th>\n",
       "      <th>latitude</th>\n",
       "      <th>longitude</th>\n",
       "      <th>Diff</th>\n",
       "      <th>Hour</th>\n",
       "      <th>Count</th>\n",
       "      <th>Std</th>\n",
       "      <th>% valid</th>\n",
       "      <th>Tag</th>\n",
       "    </tr>\n",
       "    <tr>\n",
       "      <th>DateTime</th>\n",
       "      <th></th>\n",
       "      <th></th>\n",
       "      <th></th>\n",
       "      <th></th>\n",
       "      <th></th>\n",
       "      <th></th>\n",
       "      <th></th>\n",
       "      <th></th>\n",
       "      <th></th>\n",
       "    </tr>\n",
       "  </thead>\n",
       "  <tbody>\n",
       "    <tr>\n",
       "      <th>2022-11-21 10:00:00</th>\n",
       "      <td>115.0</td>\n",
       "      <td>-28.4569</td>\n",
       "      <td>-48.973</td>\n",
       "      <td>NaN</td>\n",
       "      <td>10</td>\n",
       "      <td>1</td>\n",
       "      <td>NaN</td>\n",
       "      <td>25.0</td>\n",
       "      <td>LOWSAMPLES</td>\n",
       "    </tr>\n",
       "    <tr>\n",
       "      <th>2022-11-21 11:00:00</th>\n",
       "      <td>NaN</td>\n",
       "      <td>NaN</td>\n",
       "      <td>NaN</td>\n",
       "      <td>NaN</td>\n",
       "      <td>11</td>\n",
       "      <td>0</td>\n",
       "      <td>NaN</td>\n",
       "      <td>0.0</td>\n",
       "      <td>LOWSAMPLES</td>\n",
       "    </tr>\n",
       "    <tr>\n",
       "      <th>2022-11-21 12:00:00</th>\n",
       "      <td>NaN</td>\n",
       "      <td>NaN</td>\n",
       "      <td>NaN</td>\n",
       "      <td>NaN</td>\n",
       "      <td>12</td>\n",
       "      <td>0</td>\n",
       "      <td>NaN</td>\n",
       "      <td>0.0</td>\n",
       "      <td>LOWSAMPLES</td>\n",
       "    </tr>\n",
       "    <tr>\n",
       "      <th>2022-11-21 13:00:00</th>\n",
       "      <td>NaN</td>\n",
       "      <td>NaN</td>\n",
       "      <td>NaN</td>\n",
       "      <td>NaN</td>\n",
       "      <td>13</td>\n",
       "      <td>0</td>\n",
       "      <td>NaN</td>\n",
       "      <td>0.0</td>\n",
       "      <td>LOWSAMPLES</td>\n",
       "    </tr>\n",
       "    <tr>\n",
       "      <th>2022-11-21 14:00:00</th>\n",
       "      <td>NaN</td>\n",
       "      <td>NaN</td>\n",
       "      <td>NaN</td>\n",
       "      <td>NaN</td>\n",
       "      <td>14</td>\n",
       "      <td>0</td>\n",
       "      <td>NaN</td>\n",
       "      <td>0.0</td>\n",
       "      <td>LOWSAMPLES</td>\n",
       "    </tr>\n",
       "  </tbody>\n",
       "</table>\n",
       "</div>"
      ],
      "text/plain": [
       "                     measuring  latitude  longitude  Diff  Hour  Count  Std  \\\n",
       "DateTime                                                                      \n",
       "2022-11-21 10:00:00      115.0  -28.4569    -48.973   NaN    10      1  NaN   \n",
       "2022-11-21 11:00:00        NaN       NaN        NaN   NaN    11      0  NaN   \n",
       "2022-11-21 12:00:00        NaN       NaN        NaN   NaN    12      0  NaN   \n",
       "2022-11-21 13:00:00        NaN       NaN        NaN   NaN    13      0  NaN   \n",
       "2022-11-21 14:00:00        NaN       NaN        NaN   NaN    14      0  NaN   \n",
       "\n",
       "                     % valid         Tag  \n",
       "DateTime                                  \n",
       "2022-11-21 10:00:00     25.0  LOWSAMPLES  \n",
       "2022-11-21 11:00:00      0.0  LOWSAMPLES  \n",
       "2022-11-21 12:00:00      0.0  LOWSAMPLES  \n",
       "2022-11-21 13:00:00      0.0  LOWSAMPLES  \n",
       "2022-11-21 14:00:00      0.0  LOWSAMPLES  "
      ]
     },
     "execution_count": 16,
     "metadata": {},
     "output_type": "execute_result"
    }
   ],
   "source": [
    "alpha_co_conc_data.sensor_dataframe_1hr.head()"
   ]
  },
  {
   "attachments": {},
   "cell_type": "markdown",
   "metadata": {},
   "source": [
    "### Data contabilization"
   ]
  },
  {
   "cell_type": "code",
   "execution_count": 17,
   "metadata": {},
   "outputs": [
    {
     "data": {
      "text/html": [
       "<div>\n",
       "<style scoped>\n",
       "    .dataframe tbody tr th:only-of-type {\n",
       "        vertical-align: middle;\n",
       "    }\n",
       "\n",
       "    .dataframe tbody tr th {\n",
       "        vertical-align: top;\n",
       "    }\n",
       "\n",
       "    .dataframe thead th {\n",
       "        text-align: right;\n",
       "    }\n",
       "</style>\n",
       "<table border=\"1\" class=\"dataframe\">\n",
       "  <thead>\n",
       "    <tr style=\"text-align: right;\">\n",
       "      <th></th>\n",
       "      <th>#</th>\n",
       "      <th>%</th>\n",
       "    </tr>\n",
       "  </thead>\n",
       "  <tbody>\n",
       "    <tr>\n",
       "      <th>LOWSAMPLES</th>\n",
       "      <td>2549</td>\n",
       "      <td>70.1045</td>\n",
       "    </tr>\n",
       "    <tr>\n",
       "      <th>VALID</th>\n",
       "      <td>1087</td>\n",
       "      <td>29.8955</td>\n",
       "    </tr>\n",
       "    <tr>\n",
       "      <th>TOTAL</th>\n",
       "      <td>3636</td>\n",
       "      <td>100</td>\n",
       "    </tr>\n",
       "  </tbody>\n",
       "</table>\n",
       "</div>"
      ],
      "text/plain": [
       "               #        %\n",
       "LOWSAMPLES  2549  70.1045\n",
       "VALID       1087  29.8955\n",
       "TOTAL       3636      100"
      ]
     },
     "execution_count": 17,
     "metadata": {},
     "output_type": "execute_result"
    }
   ],
   "source": [
    "data_contabilization = count_tags(['LOWSAMPLES','VALID'], alpha_co_conc_data.sensor_dataframe_1hr)\n",
    "data_contabilization"
   ]
  },
  {
   "attachments": {},
   "cell_type": "markdown",
   "metadata": {},
   "source": [
    "### Plot raw hourly data"
   ]
  },
  {
   "cell_type": "code",
   "execution_count": 18,
   "metadata": {},
   "outputs": [
    {
     "data": {
      "text/plain": [
       "<matplotlib.axes._subplots.AxesSubplot at 0xa1ac1fadc8>"
      ]
     },
     "execution_count": 18,
     "metadata": {},
     "output_type": "execute_result"
    },
    {
     "data": {
      "image/png": "[encoded data removed]",
      "text/plain": [
       "<Figure size 432x288 with 1 Axes>"
      ]
     },
     "metadata": {
      "needs_background": "light"
     },
     "output_type": "display_data"
    }
   ],
   "source": [
    "alpha_co_conc_data.sensor_dataframe_1hr['measuring'].plot()"
   ]
  },
  {
   "attachments": {},
   "cell_type": "markdown",
   "metadata": {},
   "source": [
    "### Plot valid hourly data"
   ]
  },
  {
   "cell_type": "code",
   "execution_count": 19,
   "metadata": {},
   "outputs": [
    {
     "data": {
      "text/plain": [
       "<matplotlib.axes._subplots.AxesSubplot at 0xa1a8c44488>"
      ]
     },
     "execution_count": 19,
     "metadata": {},
     "output_type": "execute_result"
    },
    {
     "data": {
      "image/png": "[encoded data removed]",
      "text/plain": [
       "<Figure size 432x288 with 1 Axes>"
      ]
     },
     "metadata": {
      "needs_background": "light"
     },
     "output_type": "display_data"
    }
   ],
   "source": [
    "alpha_co_conc_data.sensor_dataframe_1hr[alpha_co_conc_data.sensor_dataframe_1hr['Tag'] == 'VALID']['measuring'].resample('H').mean().plot()"
   ]
  },
  {
   "attachments": {},
   "cell_type": "markdown",
   "metadata": {},
   "source": [
    "### Plot raw standard deviation"
   ]
  },
  {
   "cell_type": "code",
   "execution_count": 20,
   "metadata": {},
   "outputs": [
    {
     "data": {
      "text/plain": [
       "<matplotlib.axes._subplots.AxesSubplot at 0xa1aca42208>"
      ]
     },
     "execution_count": 20,
     "metadata": {},
     "output_type": "execute_result"
    },
    {
     "data": {
      "image/png": "[encoded data removed]",
      "text/plain": [
       "<Figure size 432x288 with 1 Axes>"
      ]
     },
     "metadata": {
      "needs_background": "light"
     },
     "output_type": "display_data"
    }
   ],
   "source": [
    "alpha_co_conc_data.sensor_dataframe_1hr['Std'].resample('H').mean().plot()"
   ]
  },
  {
   "attachments": {},
   "cell_type": "markdown",
   "metadata": {},
   "source": [
    "### Plot valid standard deviation"
   ]
  },
  {
   "cell_type": "code",
   "execution_count": 21,
   "metadata": {},
   "outputs": [
    {
     "data": {
      "text/plain": [
       "<matplotlib.axes._subplots.AxesSubplot at 0xa1acb2e788>"
      ]
     },
     "execution_count": 21,
     "metadata": {},
     "output_type": "execute_result"
    },
    {
     "data": {
      "image/png": "[encoded data removed]",
      "text/plain": [
       "<Figure size 432x288 with 1 Axes>"
      ]
     },
     "metadata": {
      "needs_background": "light"
     },
     "output_type": "display_data"
    }
   ],
   "source": [
    "alpha_co_conc_data.sensor_dataframe_1hr[alpha_co_conc_data.sensor_dataframe_1hr['Tag'] == 'VALID']['Std'].resample('H').mean().plot()"
   ]
  },
  {
   "attachments": {},
   "cell_type": "markdown",
   "metadata": {},
   "source": [
    "## Calculate quantiles and tag data accordingly"
   ]
  },
  {
   "attachments": {},
   "cell_type": "markdown",
   "metadata": {},
   "source": [
    "### Calculate quantiles"
   ]
  },
  {
   "cell_type": "code",
   "execution_count": 22,
   "metadata": {},
   "outputs": [
    {
     "data": {
      "text/html": [
       "<div>\n",
       "<style scoped>\n",
       "    .dataframe tbody tr th:only-of-type {\n",
       "        vertical-align: middle;\n",
       "    }\n",
       "\n",
       "    .dataframe tbody tr th {\n",
       "        vertical-align: top;\n",
       "    }\n",
       "\n",
       "    .dataframe thead th {\n",
       "        text-align: right;\n",
       "    }\n",
       "</style>\n",
       "<table border=\"1\" class=\"dataframe\">\n",
       "  <thead>\n",
       "    <tr style=\"text-align: right;\">\n",
       "      <th></th>\n",
       "      <th>measuring</th>\n",
       "      <th>latitude</th>\n",
       "      <th>longitude</th>\n",
       "      <th>Diff</th>\n",
       "      <th>Hour</th>\n",
       "      <th>Count</th>\n",
       "      <th>Std</th>\n",
       "      <th>% valid</th>\n",
       "      <th>Tag</th>\n",
       "      <th>GLOBAL_QTLE01</th>\n",
       "      <th>GLOBAL_QTLE99</th>\n",
       "    </tr>\n",
       "    <tr>\n",
       "      <th>DateTime</th>\n",
       "      <th></th>\n",
       "      <th></th>\n",
       "      <th></th>\n",
       "      <th></th>\n",
       "      <th></th>\n",
       "      <th></th>\n",
       "      <th></th>\n",
       "      <th></th>\n",
       "      <th></th>\n",
       "      <th></th>\n",
       "      <th></th>\n",
       "    </tr>\n",
       "  </thead>\n",
       "  <tbody>\n",
       "    <tr>\n",
       "      <th>2022-11-21 10:00:00</th>\n",
       "      <td>115.0</td>\n",
       "      <td>-28.4569</td>\n",
       "      <td>-48.973</td>\n",
       "      <td>NaN</td>\n",
       "      <td>10</td>\n",
       "      <td>1</td>\n",
       "      <td>NaN</td>\n",
       "      <td>25.0</td>\n",
       "      <td>LOWSAMPLES</td>\n",
       "      <td>43.250000</td>\n",
       "      <td>5654.00</td>\n",
       "    </tr>\n",
       "    <tr>\n",
       "      <th>2022-11-21 11:00:00</th>\n",
       "      <td>NaN</td>\n",
       "      <td>NaN</td>\n",
       "      <td>NaN</td>\n",
       "      <td>NaN</td>\n",
       "      <td>11</td>\n",
       "      <td>0</td>\n",
       "      <td>NaN</td>\n",
       "      <td>0.0</td>\n",
       "      <td>LOWSAMPLES</td>\n",
       "      <td>38.500000</td>\n",
       "      <td>5562.50</td>\n",
       "    </tr>\n",
       "    <tr>\n",
       "      <th>2022-11-21 12:00:00</th>\n",
       "      <td>NaN</td>\n",
       "      <td>NaN</td>\n",
       "      <td>NaN</td>\n",
       "      <td>NaN</td>\n",
       "      <td>12</td>\n",
       "      <td>0</td>\n",
       "      <td>NaN</td>\n",
       "      <td>0.0</td>\n",
       "      <td>LOWSAMPLES</td>\n",
       "      <td>47.500000</td>\n",
       "      <td>5555.00</td>\n",
       "    </tr>\n",
       "    <tr>\n",
       "      <th>2022-11-21 13:00:00</th>\n",
       "      <td>NaN</td>\n",
       "      <td>NaN</td>\n",
       "      <td>NaN</td>\n",
       "      <td>NaN</td>\n",
       "      <td>13</td>\n",
       "      <td>0</td>\n",
       "      <td>NaN</td>\n",
       "      <td>0.0</td>\n",
       "      <td>LOWSAMPLES</td>\n",
       "      <td>40.250000</td>\n",
       "      <td>5546.25</td>\n",
       "    </tr>\n",
       "    <tr>\n",
       "      <th>2022-11-21 14:00:00</th>\n",
       "      <td>NaN</td>\n",
       "      <td>NaN</td>\n",
       "      <td>NaN</td>\n",
       "      <td>NaN</td>\n",
       "      <td>14</td>\n",
       "      <td>0</td>\n",
       "      <td>NaN</td>\n",
       "      <td>0.0</td>\n",
       "      <td>LOWSAMPLES</td>\n",
       "      <td>14.666667</td>\n",
       "      <td>5744.25</td>\n",
       "    </tr>\n",
       "  </tbody>\n",
       "</table>\n",
       "</div>"
      ],
      "text/plain": [
       "                     measuring  latitude  longitude  Diff  Hour  Count  Std  \\\n",
       "DateTime                                                                      \n",
       "2022-11-21 10:00:00      115.0  -28.4569    -48.973   NaN    10      1  NaN   \n",
       "2022-11-21 11:00:00        NaN       NaN        NaN   NaN    11      0  NaN   \n",
       "2022-11-21 12:00:00        NaN       NaN        NaN   NaN    12      0  NaN   \n",
       "2022-11-21 13:00:00        NaN       NaN        NaN   NaN    13      0  NaN   \n",
       "2022-11-21 14:00:00        NaN       NaN        NaN   NaN    14      0  NaN   \n",
       "\n",
       "                     % valid         Tag  GLOBAL_QTLE01  GLOBAL_QTLE99  \n",
       "DateTime                                                                \n",
       "2022-11-21 10:00:00     25.0  LOWSAMPLES      43.250000        5654.00  \n",
       "2022-11-21 11:00:00      0.0  LOWSAMPLES      38.500000        5562.50  \n",
       "2022-11-21 12:00:00      0.0  LOWSAMPLES      47.500000        5555.00  \n",
       "2022-11-21 13:00:00      0.0  LOWSAMPLES      40.250000        5546.25  \n",
       "2022-11-21 14:00:00      0.0  LOWSAMPLES      14.666667        5744.25  "
      ]
     },
     "execution_count": 22,
     "metadata": {},
     "output_type": "execute_result"
    }
   ],
   "source": [
    "alpha_co_conc_data.calculate_and_tag_quantiles()\n",
    "alpha_co_conc_data.sensor_dataframe_1hr.head()"
   ]
  },
  {
   "attachments": {},
   "cell_type": "markdown",
   "metadata": {},
   "source": []
  },
  {
   "attachments": {},
   "cell_type": "markdown",
   "metadata": {},
   "source": [
    "## Process valid hourly data"
   ]
  },
  {
   "attachments": {},
   "cell_type": "markdown",
   "metadata": {},
   "source": [
    "### Methods definitions"
   ]
  },
  {
   "cell_type": "code",
   "execution_count": 23,
   "metadata": {},
   "outputs": [],
   "source": [
    "import matplotlib.pyplot as plt\n",
    "\n",
    "def plot_mean_vs_std(df):\n",
    "    fig = plt.figure(figsize=(1.3*7,7))\n",
    "    plt.scatter(df['Std'], df['measuring'], c=df['% valid'], cmap='jet')\n",
    "    cax = plt.axes([0.95, 0.1, 0.05\n",
    "                    , 0.8])\n",
    "    cbar = plt.colorbar(orientation='vertical', cax=cax)\n",
    "    cbar.ax.tick_params(labelsize=11, length=0)\n",
    "    ticks = [np.int64(df['% valid'].min() + 1), \n",
    "             np.int64((df['% valid'].max() - df['% valid'].min()) / 2),\n",
    "             np.int64(df['% valid'].max())]\n",
    "    cbar.set_ticks(np.array(ticks))\n",
    "    cbar.ax.tick_params(labelsize=15, length=0)\n",
    "\n",
    "def plot_std_in_time(df):\n",
    "    fig = plt.figure(figsize=(1.3*7,7))\n",
    "    plt.scatter(df.index, df['Std'], c=df['% valid'], cmap='jet')\n",
    "    cax = plt.axes([0.95, 0.1, 0.05, 0.8])\n",
    "    cbar = plt.colorbar(orientation='vertical', cax=cax)\n",
    "    cbar.ax.tick_params(labelsize=11, length=0)\n",
    "    ticks = [np.int64(df['% valid'].min() + 1),\n",
    "             np.int64((df['% valid'].max() - df['% valid'].min()) / 2),\n",
    "             np.int64(df['% valid'].max())]\n",
    "    cbar.set_ticks(np.array(ticks))\n",
    "    cbar.ax.tick_params(labelsize=15, length=0)\n",
    "\n",
    "def plot_box_hist(df, bins):\n",
    "  bottom, height = 0.1, 0.65\n",
    "  left, width = bottom, height*1.3\n",
    "  spacing = 0.005\n",
    "  \n",
    "  rect_ser = [left-width-spacing, bottom, width, height]\n",
    "  rect_box = [left, bottom, width, height]\n",
    "  rect_hist = [left + width + spacing, bottom, height/1.3, height]\n",
    "\n",
    "  plt.figure(figsize=(5, 5/1.3))\n",
    "\n",
    "  ax_ser  = plt.axes(rect_ser)\n",
    "  ax_ser.tick_params(direction='in', top=True, right=True)\n",
    "  ax_ser.set_title('Serie temporal')\n",
    "\n",
    "  ax_box  = plt.axes(rect_box)\n",
    "  ax_box.tick_params(direction='in', labelleft=False)\n",
    "\n",
    "  ax_hist = plt.axes(rect_hist)\n",
    "  ax_hist.tick_params(direction='in', labelleft=False)\n",
    "  ax_hist.set_title('Histograma')\n",
    "\n",
    "  lim_max = df['measuring'].max()+df['measuring'].max()*10/100\n",
    "  lim_min = df['measuring'].min()-df['measuring'].min()*10/100\n",
    "\n",
    "  df['measuring'].plot(ax=ax_ser)\n",
    "  ax_ser.set_ylim(lim_min, lim_max)\n",
    "\n",
    "  ax_hist.hist(df['measuring'], bins=bins, orientation='horizontal')\n",
    "  ax_hist.set_ylim(lim_min, lim_max)\n",
    "\n",
    "  df = df.dropna(axis='index', how='all', subset=['Hour'])\n",
    "  df['Hour'] = df['Hour'].astype('int64')\n",
    "  df.pivot(columns='Hour')['measuring'].dropna(\n",
    "        axis='columns', how='all').plot.box(\n",
    "            ax=ax_box,title='Comportamento médio no período')\n",
    "  ax_box.set_ylim(ax_hist.get_ylim())"
   ]
  },
  {
   "cell_type": "code",
   "execution_count": 24,
   "metadata": {},
   "outputs": [],
   "source": [
    "dataframe = alpha_co_conc_data.sensor_dataframe_1hr[alpha_co_conc_data.sensor_dataframe_1hr['Tag'] == 'VALID'].resample('H').mean()"
   ]
  },
  {
   "attachments": {},
   "cell_type": "markdown",
   "metadata": {},
   "source": [
    "## Calculate quantiles"
   ]
  },
  {
   "cell_type": "code",
   "execution_count": 25,
   "metadata": {},
   "outputs": [
    {
     "data": {
      "text/html": [
       "<div>\n",
       "<style scoped>\n",
       "    .dataframe tbody tr th:only-of-type {\n",
       "        vertical-align: middle;\n",
       "    }\n",
       "\n",
       "    .dataframe tbody tr th {\n",
       "        vertical-align: top;\n",
       "    }\n",
       "\n",
       "    .dataframe thead th {\n",
       "        text-align: right;\n",
       "    }\n",
       "</style>\n",
       "<table border=\"1\" class=\"dataframe\">\n",
       "  <thead>\n",
       "    <tr style=\"text-align: right;\">\n",
       "      <th></th>\n",
       "      <th>measuring</th>\n",
       "      <th>latitude</th>\n",
       "      <th>longitude</th>\n",
       "      <th>Diff</th>\n",
       "      <th>Hour</th>\n",
       "      <th>Count</th>\n",
       "      <th>Std</th>\n",
       "      <th>% valid</th>\n",
       "      <th>GLOBAL_QTLE01</th>\n",
       "      <th>GLOBAL_QTLE99</th>\n",
       "      <th>GLOBAL QTLE01</th>\n",
       "      <th>GLOBAL QTLE99</th>\n",
       "    </tr>\n",
       "    <tr>\n",
       "      <th>DateTime</th>\n",
       "      <th></th>\n",
       "      <th></th>\n",
       "      <th></th>\n",
       "      <th></th>\n",
       "      <th></th>\n",
       "      <th></th>\n",
       "      <th></th>\n",
       "      <th></th>\n",
       "      <th></th>\n",
       "      <th></th>\n",
       "      <th></th>\n",
       "      <th></th>\n",
       "    </tr>\n",
       "  </thead>\n",
       "  <tbody>\n",
       "    <tr>\n",
       "      <th>2022-11-21 21:00:00</th>\n",
       "      <td>131.750000</td>\n",
       "      <td>-28.4569</td>\n",
       "      <td>-48.973</td>\n",
       "      <td>-5.00</td>\n",
       "      <td>21.0</td>\n",
       "      <td>4.0</td>\n",
       "      <td>5.123475</td>\n",
       "      <td>100.0</td>\n",
       "      <td>18.333333</td>\n",
       "      <td>5852.75</td>\n",
       "      <td>34.000000</td>\n",
       "      <td>5761.5</td>\n",
       "    </tr>\n",
       "    <tr>\n",
       "      <th>2022-11-21 22:00:00</th>\n",
       "      <td>127.000000</td>\n",
       "      <td>-28.4569</td>\n",
       "      <td>-48.973</td>\n",
       "      <td>-0.25</td>\n",
       "      <td>22.0</td>\n",
       "      <td>4.0</td>\n",
       "      <td>1.414214</td>\n",
       "      <td>100.0</td>\n",
       "      <td>18.000000</td>\n",
       "      <td>5845.75</td>\n",
       "      <td>23.666667</td>\n",
       "      <td>5762.5</td>\n",
       "    </tr>\n",
       "    <tr>\n",
       "      <th>2022-11-21 23:00:00</th>\n",
       "      <td>127.333333</td>\n",
       "      <td>-28.4569</td>\n",
       "      <td>-48.973</td>\n",
       "      <td>0.00</td>\n",
       "      <td>23.0</td>\n",
       "      <td>3.0</td>\n",
       "      <td>2.309401</td>\n",
       "      <td>75.0</td>\n",
       "      <td>36.000000</td>\n",
       "      <td>5881.50</td>\n",
       "      <td>39.000000</td>\n",
       "      <td>5784.0</td>\n",
       "    </tr>\n",
       "    <tr>\n",
       "      <th>2022-11-22 00:00:00</th>\n",
       "      <td>131.000000</td>\n",
       "      <td>-28.4569</td>\n",
       "      <td>-48.973</td>\n",
       "      <td>-0.50</td>\n",
       "      <td>0.0</td>\n",
       "      <td>3.0</td>\n",
       "      <td>1.000000</td>\n",
       "      <td>75.0</td>\n",
       "      <td>18.500000</td>\n",
       "      <td>5862.00</td>\n",
       "      <td>27.500000</td>\n",
       "      <td>5763.0</td>\n",
       "    </tr>\n",
       "    <tr>\n",
       "      <th>2022-11-22 01:00:00</th>\n",
       "      <td>124.750000</td>\n",
       "      <td>-28.4569</td>\n",
       "      <td>-48.973</td>\n",
       "      <td>-1.75</td>\n",
       "      <td>1.0</td>\n",
       "      <td>4.0</td>\n",
       "      <td>2.872281</td>\n",
       "      <td>100.0</td>\n",
       "      <td>18.666667</td>\n",
       "      <td>5801.75</td>\n",
       "      <td>24.500000</td>\n",
       "      <td>5800.5</td>\n",
       "    </tr>\n",
       "  </tbody>\n",
       "</table>\n",
       "</div>"
      ],
      "text/plain": [
       "                      measuring  latitude  longitude  Diff  Hour  Count  \\\n",
       "DateTime                                                                  \n",
       "2022-11-21 21:00:00  131.750000  -28.4569    -48.973 -5.00  21.0    4.0   \n",
       "2022-11-21 22:00:00  127.000000  -28.4569    -48.973 -0.25  22.0    4.0   \n",
       "2022-11-21 23:00:00  127.333333  -28.4569    -48.973  0.00  23.0    3.0   \n",
       "2022-11-22 00:00:00  131.000000  -28.4569    -48.973 -0.50   0.0    3.0   \n",
       "2022-11-22 01:00:00  124.750000  -28.4569    -48.973 -1.75   1.0    4.0   \n",
       "\n",
       "                          Std  % valid  GLOBAL_QTLE01  GLOBAL_QTLE99  \\\n",
       "DateTime                                                               \n",
       "2022-11-21 21:00:00  5.123475    100.0      18.333333        5852.75   \n",
       "2022-11-21 22:00:00  1.414214    100.0      18.000000        5845.75   \n",
       "2022-11-21 23:00:00  2.309401     75.0      36.000000        5881.50   \n",
       "2022-11-22 00:00:00  1.000000     75.0      18.500000        5862.00   \n",
       "2022-11-22 01:00:00  2.872281    100.0      18.666667        5801.75   \n",
       "\n",
       "                     GLOBAL QTLE01  GLOBAL QTLE99  \n",
       "DateTime                                           \n",
       "2022-11-21 21:00:00      34.000000         5761.5  \n",
       "2022-11-21 22:00:00      23.666667         5762.5  \n",
       "2022-11-21 23:00:00      39.000000         5784.0  \n",
       "2022-11-22 00:00:00      27.500000         5763.0  \n",
       "2022-11-22 01:00:00      24.500000         5800.5  "
      ]
     },
     "execution_count": 25,
     "metadata": {},
     "output_type": "execute_result"
    }
   ],
   "source": [
    "global_qtle_01 = dataframe.pivot(columns='Hour')['measuring'].quantile(q=0.01, axis='index', interpolation='lower').dropna()\n",
    "global_qtle_99 = dataframe.pivot(columns='Hour')['measuring'].quantile(q=0.99, axis='index', interpolation='higher').dropna()\n",
    "dataframe['GLOBAL QTLE01'] = dataframe['Hour'].map(lambda hr: global_qtle_01[hr] if (not np.isnan(hr)) else np.nan)\n",
    "dataframe['GLOBAL QTLE99'] = dataframe['Hour'].map(lambda hr: global_qtle_99[hr] if (not np.isnan(hr)) else np.nan)\n",
    "dataframe.head()"
   ]
  },
  {
   "attachments": {},
   "cell_type": "markdown",
   "metadata": {},
   "source": [
    "### Plot mean vs. standard deviation for valid hourly data colored by valid percentage of valid samples"
   ]
  },
  {
   "cell_type": "code",
   "execution_count": 26,
   "metadata": {},
   "outputs": [
    {
     "data": {
      "image/png": "[encoded data removed]",
      "text/plain": [
       "<Figure size 655.2x504 with 2 Axes>"
      ]
     },
     "metadata": {
      "needs_background": "light"
     },
     "output_type": "display_data"
    }
   ],
   "source": [
    "plot_mean_vs_std(dataframe)"
   ]
  },
  {
   "cell_type": "code",
   "execution_count": 27,
   "metadata": {},
   "outputs": [
    {
     "data": {
      "image/png": "[encoded data removed]",
      "text/plain": [
       "<Figure size 655.2x504 with 2 Axes>"
      ]
     },
     "metadata": {
      "needs_background": "light"
     },
     "output_type": "display_data"
    }
   ],
   "source": [
    "plot_std_in_time(dataframe)"
   ]
  },
  {
   "cell_type": "code",
   "execution_count": 28,
   "metadata": {},
   "outputs": [
    {
     "name": "stderr",
     "output_type": "stream",
     "text": [
      "c:\\Users\\Fernando\\anaconda3\\lib\\site-packages\\numpy\\lib\\histograms.py:839: RuntimeWarning: invalid value encountered in greater_equal\n",
      "  keep = (tmp_a >= first_edge)\n",
      "c:\\Users\\Fernando\\anaconda3\\lib\\site-packages\\numpy\\lib\\histograms.py:840: RuntimeWarning: invalid value encountered in less_equal\n",
      "  keep &= (tmp_a <= last_edge)\n",
      "c:\\Users\\Fernando\\anaconda3\\lib\\site-packages\\ipykernel_launcher.py:60: SettingWithCopyWarning: \n",
      "A value is trying to be set on a copy of a slice from a DataFrame.\n",
      "Try using .loc[row_indexer,col_indexer] = value instead\n",
      "\n",
      "See the caveats in the documentation: https://pandas.pydata.org/pandas-docs/stable/user_guide/indexing.html#returning-a-view-versus-a-copy\n"
     ]
    },
    {
     "data": {
      "image/png": "[encoded data removed]",
      "text/plain": [
       "<Figure size 360x276.923 with 3 Axes>"
      ]
     },
     "metadata": {
      "needs_background": "light"
     },
     "output_type": "display_data"
    }
   ],
   "source": [
    "plot_box_hist(dataframe, 20)"
   ]
  }
 ],
 "metadata": {
  "kernelspec": {
   "display_name": "base",
   "language": "python",
   "name": "python3"
  },
  "language_info": {
   "codemirror_mode": {
    "name": "ipython",
    "version": 3
   },
   "file_extension": ".py",
   "mimetype": "text/x-python",
   "name": "python",
   "nbconvert_exporter": "python",
   "pygments_lexer": "ipython3",
   "version": "3.7.6"
  },
  "orig_nbformat": 4,
  "vscode": {
   "interpreter": {
    "hash": "f8888cef93c0ab2dad8757649d3fb165fc7199744cbfe7914d8ac677a8dac0b4"
   }
  }
 },
 "nbformat": 4,
 "nbformat_minor": 2
}
