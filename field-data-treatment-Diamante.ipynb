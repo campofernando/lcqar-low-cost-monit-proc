{
 "cells": [
  {
   "cell_type": "markdown",
   "metadata": {},
   "source": [
    "## Receive Renovar API Data"
   ]
  },
  {
   "attachments": {},
   "cell_type": "markdown",
   "metadata": {},
   "source": [
    "### Definitions"
   ]
  },
  {
   "attachments": {},
   "cell_type": "markdown",
   "metadata": {},
   "source": [
    "#### Constants"
   ]
  },
  {
   "attachments": {},
   "cell_type": "markdown",
   "metadata": {},
   "source": [
    "##### Sensors IDs"
   ]
  },
  {
   "cell_type": "code",
   "execution_count": null,
   "metadata": {},
   "outputs": [],
   "source": [
    "TEMPERATURE_ID     =  130\n",
    "PRESSURE_ID        =  131\n",
    "ALPHA_CO_ID        =  132\n",
    "ALPHA_NO2_ID       =  133\n",
    "ALPHA_SO2_1_ID     =  134\n",
    "ALPHA_OX_1_ID      =  135\n",
    "ALPHA_OX_2_ID      =  136\n",
    "ALPHA_SO2_2_ID     =  137\n",
    "EXT_TEMPERATURE_ID =  138\n",
    "EXT_HUMIDITY_ID    =  139\n",
    "PM10_ID            =  140\n",
    "PM25_ID            =  141\n",
    "PM01_ID            =  142\n",
    "OPC_TEMPERATURE_ID =  143\n",
    "OPC_HUMIDITY_ID    =  144"
   ]
  },
  {
   "attachments": {},
   "cell_type": "markdown",
   "metadata": {},
   "source": [
    "##### API Constants"
   ]
  },
  {
   "cell_type": "code",
   "execution_count": 4,
   "metadata": {},
   "outputs": [],
   "source": [
    "HOST = \"renovar.lcqar.ufsc.br\"\n",
    "PORT = 8080\n",
    "GET_SAMPLES_BY_SENSOR = \"/sample/sensor/\"\n",
    "HTTP_REQUEST_MAIN = 'http://' + HOST + ':' + str(PORT) + GET_SAMPLES_BY_SENSOR"
   ]
  },
  {
   "attachments": {},
   "cell_type": "markdown",
   "metadata": {},
   "source": [
    "#### Methods for creating and processing requests"
   ]
  },
  {
   "cell_type": "code",
   "execution_count": 31,
   "metadata": {},
   "outputs": [],
   "source": [
    "import requests\n",
    "import json\n",
    "import pandas as pd\n",
    "\n",
    "def get_samples_by_sensor(sensor_id):\n",
    "    response_json = requests.get(HTTP_REQUEST_MAIN + str(sensor_id))\n",
    "    response_dict = json.loads(response_json.content)\n",
    "    response_dataframe = pd.DataFrame.from_dict(response_dict[\"content\"])\n",
    "    print(response_dataframe[[\"date\",\"measuring\"]])\n",
    "    # samples = response_dataframe[\"date\", \"measuring\"]\n",
    "    print(response_dict[\"content\"][0][\"measuring\"])\n",
    "    # print(samples)"
   ]
  },
  {
   "attachments": {},
   "cell_type": "markdown",
   "metadata": {},
   "source": [
    "### Main"
   ]
  },
  {
   "cell_type": "code",
   "execution_count": 32,
   "metadata": {},
   "outputs": [
    {
     "name": "stdout",
     "output_type": "stream",
     "text": [
      "0     -196.0\n",
      "1      115.0\n",
      "2       93.0\n",
      "3       87.0\n",
      "4       89.0\n",
      "       ...  \n",
      "495    -35.0\n",
      "496    179.0\n",
      "497     67.0\n",
      "498    164.0\n",
      "499    233.0\n",
      "Name: measuring, Length: 500, dtype: float64\n",
      "-196.0\n"
     ]
    }
   ],
   "source": [
    "get_samples_by_sensor(132)"
   ]
  }
 ],
 "metadata": {
  "kernelspec": {
   "display_name": "base",
   "language": "python",
   "name": "python3"
  },
  "language_info": {
   "codemirror_mode": {
    "name": "ipython",
    "version": 3
   },
   "file_extension": ".py",
   "mimetype": "text/x-python",
   "name": "python",
   "nbconvert_exporter": "python",
   "pygments_lexer": "ipython3",
   "version": "3.7.6"
  },
  "orig_nbformat": 4,
  "vscode": {
   "interpreter": {
    "hash": "f8888cef93c0ab2dad8757649d3fb165fc7199744cbfe7914d8ac677a8dac0b4"
   }
  }
 },
 "nbformat": 4,
 "nbformat_minor": 2
}
